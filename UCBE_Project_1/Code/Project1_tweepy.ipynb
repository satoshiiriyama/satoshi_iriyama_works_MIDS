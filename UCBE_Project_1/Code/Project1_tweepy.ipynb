{
 "cells": [
  {
   "cell_type": "code",
   "execution_count": 1,
   "metadata": {},
   "outputs": [],
   "source": [
    "# Dependencies\n",
    "# Dependencies\n",
    "import tweepy \n",
    "import numpy as np\n",
    "import pandas as pd\n",
    "import json\n",
    "from datetime import datetime\n",
    "import matplotlib.pyplot as plt\n",
    "from matplotlib import style\n",
    "import time\n",
    "style.use('ggplot')"
   ]
  },
  {
   "cell_type": "code",
   "execution_count": 2,
   "metadata": {},
   "outputs": [],
   "source": [
    "# Import Twitter API Keys\n",
    "from config import consumer_key, consumer_secret, access_token, access_token_secret"
   ]
  },
  {
   "cell_type": "code",
   "execution_count": 3,
   "metadata": {},
   "outputs": [],
   "source": [
    "# Import and Initialize Sentiment Analyzer\n",
    "from vaderSentiment.vaderSentiment import SentimentIntensityAnalyzer\n",
    "analyzer = SentimentIntensityAnalyzer()"
   ]
  },
  {
   "cell_type": "code",
   "execution_count": 4,
   "metadata": {},
   "outputs": [],
   "source": [
    "# Setup Tweepy API Authentication\n",
    "auth = tweepy.OAuthHandler(consumer_key, consumer_secret)\n",
    "auth.set_access_token(access_token, access_token_secret)\n",
    "api = tweepy.API(auth, parser=tweepy.parsers.JSONParser())"
   ]
  },
  {
   "cell_type": "code",
   "execution_count": 5,
   "metadata": {},
   "outputs": [],
   "source": [
    "# Target Search Term\n",
    "target_terms = \"xperia\"\n",
    "\n",
    "# Language Filters\n",
    "lang = \"en\"\n",
    "\n",
    "\n",
    "# Variable for holding the oldest tweet\n",
    "oldest_tweet = None\n",
    "\n",
    "results_list = []\n",
    "\n",
    "# Loop through 10 times\n",
    "for x in range(50):\n",
    "\n",
    "    # Run search around each tweet\n",
    "    public_tweets = api.search(target_terms, count=100, result_type=\"recent\", max_id=oldest_tweet)\n",
    "     \n",
    "    # Loop through all tweets\n",
    "    for tweet in public_tweets[\"statuses\"]:\n",
    "        \n",
    "        # Use language filter\n",
    "        if (tweet[\"user\"][\"lang\"] == lang):    \n",
    "            \n",
    "            # Getting Date data\n",
    "            raw_time = tweet[\"created_at\"] \n",
    "            \n",
    "            # Comvert Date data \"Sat Aug 04 20:52:57 +0000 2018\" into \n",
    "            datetime_converted = datetime.strptime(raw_time, \"%a %b %d %H:%M:%S %z %Y\")\n",
    "            datetime_wk_year = datetime_converted.strftime(\"%b-%d-%Y\")\n",
    "            \n",
    "            # add the date into results_list\n",
    "            results_list.append(datetime_wk_year)\n",
    "   \n",
    "            # Set the new oldest_tweet value\n",
    "            oldest_tweet = tweet[\"id\"] - 1\n",
    "    \n",
    "    time.sleep(60*2)\n"
   ]
  },
  {
   "cell_type": "code",
   "execution_count": 6,
   "metadata": {},
   "outputs": [
    {
     "data": {
      "text/plain": [
       "562"
      ]
     },
     "execution_count": 6,
     "metadata": {},
     "output_type": "execute_result"
    }
   ],
   "source": [
    "len(results_list)"
   ]
  },
  {
   "cell_type": "code",
   "execution_count": 15,
   "metadata": {},
   "outputs": [],
   "source": [
    "# Loop through 10 times\n",
    "for x in range(30):\n",
    "\n",
    "    # Run search around each tweet\n",
    "    public_tweets = api.search(target_terms, count=100, result_type=\"recent\", max_id=oldest_tweet)\n",
    "     \n",
    "    # Loop through all tweets\n",
    "    for tweet in public_tweets[\"statuses\"]:\n",
    "        \n",
    "        # Use language filter\n",
    "        if (tweet[\"user\"][\"lang\"] == lang):    \n",
    "            \n",
    "            # Getting Date data\n",
    "            raw_time = tweet[\"created_at\"] \n",
    "            \n",
    "            # Comvert Date data \"Sat Aug 04 20:52:57 +0000 2018\" into \n",
    "            datetime_converted = datetime.strptime(raw_time, \"%a %b %d %H:%M:%S %z %Y\")\n",
    "            datetime_wk_year = datetime_converted.strftime(\"%b-%d-%Y\")\n",
    "            \n",
    "            # add the date into results_list\n",
    "            results_list.append(datetime_wk_year)\n",
    "   \n",
    "            # Set the new oldest_tweet value\n",
    "            oldest_tweet = tweet[\"id\"] - 1\n",
    "    \n",
    "    time.sleep(60*1)"
   ]
  },
  {
   "cell_type": "code",
   "execution_count": 16,
   "metadata": {},
   "outputs": [
    {
     "data": {
      "text/plain": [
       "902"
      ]
     },
     "execution_count": 16,
     "metadata": {},
     "output_type": "execute_result"
    }
   ],
   "source": [
    "len(results_list)"
   ]
  },
  {
   "cell_type": "code",
   "execution_count": 17,
   "metadata": {},
   "outputs": [],
   "source": [
    "# Loop through 10 times\n",
    "for x in range(30):\n",
    "\n",
    "    # Run search around each tweet\n",
    "    public_tweets = api.search(target_terms, count=100, result_type=\"recent\", max_id=oldest_tweet)\n",
    "     \n",
    "    # Loop through all tweets\n",
    "    for tweet in public_tweets[\"statuses\"]:\n",
    "        \n",
    "        # Use language filter\n",
    "        if (tweet[\"user\"][\"lang\"] == lang):    \n",
    "            \n",
    "            # Getting Date data\n",
    "            raw_time = tweet[\"created_at\"] \n",
    "            \n",
    "            # Comvert Date data \"Sat Aug 04 20:52:57 +0000 2018\" into \n",
    "            datetime_converted = datetime.strptime(raw_time, \"%a %b %d %H:%M:%S %z %Y\")\n",
    "            datetime_wk_year = datetime_converted.strftime(\"%b-%d-%Y\")\n",
    "            \n",
    "            # add the date into results_list\n",
    "            results_list.append(datetime_wk_year)\n",
    "   \n",
    "            # Set the new oldest_tweet value\n",
    "            oldest_tweet = tweet[\"id\"] - 1\n",
    "    \n",
    "    time.sleep(60*1)"
   ]
  },
  {
   "cell_type": "code",
   "execution_count": 18,
   "metadata": {},
   "outputs": [
    {
     "data": {
      "text/plain": [
       "1269"
      ]
     },
     "execution_count": 18,
     "metadata": {},
     "output_type": "execute_result"
    }
   ],
   "source": [
    "len(results_list)"
   ]
  },
  {
   "cell_type": "code",
   "execution_count": 19,
   "metadata": {},
   "outputs": [],
   "source": [
    "# Loop through 10 times\n",
    "for x in range(30):\n",
    "\n",
    "    # Run search around each tweet\n",
    "    public_tweets = api.search(target_terms, count=100, result_type=\"recent\", max_id=oldest_tweet)\n",
    "     \n",
    "    # Loop through all tweets\n",
    "    for tweet in public_tweets[\"statuses\"]:\n",
    "        \n",
    "        # Use language filter\n",
    "        if (tweet[\"user\"][\"lang\"] == lang):    \n",
    "            \n",
    "            # Getting Date data\n",
    "            raw_time = tweet[\"created_at\"] \n",
    "            \n",
    "            # Comvert Date data \"Sat Aug 04 20:52:57 +0000 2018\" into \n",
    "            datetime_converted = datetime.strptime(raw_time, \"%a %b %d %H:%M:%S %z %Y\")\n",
    "            datetime_wk_year = datetime_converted.strftime(\"%b-%d-%Y\")\n",
    "            \n",
    "            # add the date into results_list\n",
    "            results_list.append(datetime_wk_year)\n",
    "   \n",
    "            # Set the new oldest_tweet value\n",
    "            oldest_tweet = tweet[\"id\"] - 1\n",
    "    \n",
    "    time.sleep(60*1)"
   ]
  },
  {
   "cell_type": "code",
   "execution_count": 20,
   "metadata": {},
   "outputs": [
    {
     "data": {
      "text/plain": [
       "1692"
      ]
     },
     "execution_count": 20,
     "metadata": {},
     "output_type": "execute_result"
    }
   ],
   "source": [
    "len(results_list)"
   ]
  },
  {
   "cell_type": "code",
   "execution_count": 21,
   "metadata": {},
   "outputs": [],
   "source": [
    "# Loop through 10 times\n",
    "for x in range(30):\n",
    "\n",
    "    # Run search around each tweet\n",
    "    public_tweets = api.search(target_terms, count=100, result_type=\"recent\", max_id=oldest_tweet)\n",
    "     \n",
    "    # Loop through all tweets\n",
    "    for tweet in public_tweets[\"statuses\"]:\n",
    "        \n",
    "        # Use language filter\n",
    "        if (tweet[\"user\"][\"lang\"] == lang):    \n",
    "            \n",
    "            # Getting Date data\n",
    "            raw_time = tweet[\"created_at\"] \n",
    "            \n",
    "            # Comvert Date data \"Sat Aug 04 20:52:57 +0000 2018\" into \n",
    "            datetime_converted = datetime.strptime(raw_time, \"%a %b %d %H:%M:%S %z %Y\")\n",
    "            datetime_wk_year = datetime_converted.strftime(\"%b-%d-%Y\")\n",
    "            \n",
    "            # add the date into results_list\n",
    "            results_list.append(datetime_wk_year)\n",
    "   \n",
    "            # Set the new oldest_tweet value\n",
    "            oldest_tweet = tweet[\"id\"] - 1\n",
    "    \n",
    "    time.sleep(60*1)"
   ]
  },
  {
   "cell_type": "code",
   "execution_count": 22,
   "metadata": {},
   "outputs": [
    {
     "data": {
      "text/plain": [
       "2125"
      ]
     },
     "execution_count": 22,
     "metadata": {},
     "output_type": "execute_result"
    }
   ],
   "source": [
    "len(results_list)"
   ]
  },
  {
   "cell_type": "code",
   "execution_count": 23,
   "metadata": {},
   "outputs": [],
   "source": [
    "# Loop through 10 times\n",
    "for x in range(30):\n",
    "\n",
    "    # Run search around each tweet\n",
    "    public_tweets = api.search(target_terms, count=100, result_type=\"recent\", max_id=oldest_tweet)\n",
    "     \n",
    "    # Loop through all tweets\n",
    "    for tweet in public_tweets[\"statuses\"]:\n",
    "        \n",
    "        # Use language filter\n",
    "        if (tweet[\"user\"][\"lang\"] == lang):    \n",
    "            \n",
    "            # Getting Date data\n",
    "            raw_time = tweet[\"created_at\"] \n",
    "            \n",
    "            # Comvert Date data \"Sat Aug 04 20:52:57 +0000 2018\" into \n",
    "            datetime_converted = datetime.strptime(raw_time, \"%a %b %d %H:%M:%S %z %Y\")\n",
    "            datetime_wk_year = datetime_converted.strftime(\"%b-%d-%Y\")\n",
    "            \n",
    "            # add the date into results_list\n",
    "            results_list.append(datetime_wk_year)\n",
    "   \n",
    "            # Set the new oldest_tweet value\n",
    "            oldest_tweet = tweet[\"id\"] - 1\n",
    "    \n",
    "    time.sleep(60*1)"
   ]
  },
  {
   "cell_type": "code",
   "execution_count": 24,
   "metadata": {},
   "outputs": [
    {
     "data": {
      "text/plain": [
       "2539"
      ]
     },
     "execution_count": 24,
     "metadata": {},
     "output_type": "execute_result"
    }
   ],
   "source": [
    "len(results_list)"
   ]
  },
  {
   "cell_type": "code",
   "execution_count": 25,
   "metadata": {},
   "outputs": [
    {
     "data": {
      "text/html": [
       "<div>\n",
       "<style scoped>\n",
       "    .dataframe tbody tr th:only-of-type {\n",
       "        vertical-align: middle;\n",
       "    }\n",
       "\n",
       "    .dataframe tbody tr th {\n",
       "        vertical-align: top;\n",
       "    }\n",
       "\n",
       "    .dataframe thead th {\n",
       "        text-align: right;\n",
       "    }\n",
       "</style>\n",
       "<table border=\"1\" class=\"dataframe\">\n",
       "  <thead>\n",
       "    <tr style=\"text-align: right;\">\n",
       "      <th></th>\n",
       "      <th>Date</th>\n",
       "    </tr>\n",
       "  </thead>\n",
       "  <tbody>\n",
       "    <tr>\n",
       "      <th>0</th>\n",
       "      <td>Aug-07-2018</td>\n",
       "    </tr>\n",
       "    <tr>\n",
       "      <th>1</th>\n",
       "      <td>Aug-07-2018</td>\n",
       "    </tr>\n",
       "    <tr>\n",
       "      <th>2</th>\n",
       "      <td>Aug-07-2018</td>\n",
       "    </tr>\n",
       "    <tr>\n",
       "      <th>3</th>\n",
       "      <td>Aug-07-2018</td>\n",
       "    </tr>\n",
       "    <tr>\n",
       "      <th>4</th>\n",
       "      <td>Aug-07-2018</td>\n",
       "    </tr>\n",
       "  </tbody>\n",
       "</table>\n",
       "</div>"
      ],
      "text/plain": [
       "          Date\n",
       "0  Aug-07-2018\n",
       "1  Aug-07-2018\n",
       "2  Aug-07-2018\n",
       "3  Aug-07-2018\n",
       "4  Aug-07-2018"
      ]
     },
     "execution_count": 25,
     "metadata": {},
     "output_type": "execute_result"
    }
   ],
   "source": [
    "df = pd.DataFrame(results_list)\n",
    "df = df.rename(columns={0: \"Date\"})\n",
    "df.head()"
   ]
  },
  {
   "cell_type": "code",
   "execution_count": 26,
   "metadata": {},
   "outputs": [
    {
     "data": {
      "text/plain": [
       "Date\n",
       "Aug-02-2018     45\n",
       "Aug-03-2018    501\n",
       "Aug-04-2018    745\n",
       "Aug-05-2018    511\n",
       "Aug-06-2018    471\n",
       "Aug-07-2018    266\n",
       "Name: Date, dtype: int64"
      ]
     },
     "execution_count": 26,
     "metadata": {},
     "output_type": "execute_result"
    }
   ],
   "source": [
    "df_group = df.groupby([\"Date\"])\n",
    "count_df_group = df_group[\"Date\"].count()\n",
    "count_df_group"
   ]
  },
  {
   "cell_type": "code",
   "execution_count": 27,
   "metadata": {},
   "outputs": [],
   "source": [
    "# Loop through 10 times\n",
    "for x in range(30):\n",
    "\n",
    "    # Run search around each tweet\n",
    "    public_tweets = api.search(target_terms, count=100, result_type=\"recent\", max_id=oldest_tweet)\n",
    "     \n",
    "    # Loop through all tweets\n",
    "    for tweet in public_tweets[\"statuses\"]:\n",
    "        \n",
    "        # Use language filter\n",
    "        if (tweet[\"user\"][\"lang\"] == lang):    \n",
    "            \n",
    "            # Getting Date data\n",
    "            raw_time = tweet[\"created_at\"] \n",
    "            \n",
    "            # Comvert Date data \"Sat Aug 04 20:52:57 +0000 2018\" into \n",
    "            datetime_converted = datetime.strptime(raw_time, \"%a %b %d %H:%M:%S %z %Y\")\n",
    "            datetime_wk_year = datetime_converted.strftime(\"%b-%d-%Y\")\n",
    "            \n",
    "            # add the date into results_list\n",
    "            results_list.append(datetime_wk_year)\n",
    "   \n",
    "            # Set the new oldest_tweet value\n",
    "            oldest_tweet = tweet[\"id\"] - 1\n",
    "    \n",
    "    time.sleep(60*1)"
   ]
  },
  {
   "cell_type": "code",
   "execution_count": 28,
   "metadata": {},
   "outputs": [
    {
     "data": {
      "text/plain": [
       "2915"
      ]
     },
     "execution_count": 28,
     "metadata": {},
     "output_type": "execute_result"
    }
   ],
   "source": [
    "len(results_list)"
   ]
  },
  {
   "cell_type": "code",
   "execution_count": 29,
   "metadata": {},
   "outputs": [],
   "source": [
    "# Loop through 10 times\n",
    "for x in range(30):\n",
    "\n",
    "    # Run search around each tweet\n",
    "    public_tweets = api.search(target_terms, count=100, result_type=\"recent\", max_id=oldest_tweet)\n",
    "     \n",
    "    # Loop through all tweets\n",
    "    for tweet in public_tweets[\"statuses\"]:\n",
    "        \n",
    "        # Use language filter\n",
    "        if (tweet[\"user\"][\"lang\"] == lang):    \n",
    "            \n",
    "            # Getting Date data\n",
    "            raw_time = tweet[\"created_at\"] \n",
    "            \n",
    "            # Comvert Date data \"Sat Aug 04 20:52:57 +0000 2018\" into \n",
    "            datetime_converted = datetime.strptime(raw_time, \"%a %b %d %H:%M:%S %z %Y\")\n",
    "            datetime_wk_year = datetime_converted.strftime(\"%b-%d-%Y\")\n",
    "            \n",
    "            # add the date into results_list\n",
    "            results_list.append(datetime_wk_year)\n",
    "   \n",
    "            # Set the new oldest_tweet value\n",
    "            oldest_tweet = tweet[\"id\"] - 1\n",
    "    \n",
    "    time.sleep(60*1)"
   ]
  },
  {
   "cell_type": "code",
   "execution_count": 30,
   "metadata": {},
   "outputs": [
    {
     "data": {
      "text/plain": [
       "3413"
      ]
     },
     "execution_count": 30,
     "metadata": {},
     "output_type": "execute_result"
    }
   ],
   "source": [
    "len(results_list)"
   ]
  },
  {
   "cell_type": "code",
   "execution_count": 31,
   "metadata": {},
   "outputs": [
    {
     "data": {
      "text/plain": [
       "1024524756710776831"
      ]
     },
     "execution_count": 31,
     "metadata": {},
     "output_type": "execute_result"
    }
   ],
   "source": [
    "oldest_tweet"
   ]
  },
  {
   "cell_type": "code",
   "execution_count": 32,
   "metadata": {},
   "outputs": [
    {
     "data": {
      "text/html": [
       "<div>\n",
       "<style scoped>\n",
       "    .dataframe tbody tr th:only-of-type {\n",
       "        vertical-align: middle;\n",
       "    }\n",
       "\n",
       "    .dataframe tbody tr th {\n",
       "        vertical-align: top;\n",
       "    }\n",
       "\n",
       "    .dataframe thead th {\n",
       "        text-align: right;\n",
       "    }\n",
       "</style>\n",
       "<table border=\"1\" class=\"dataframe\">\n",
       "  <thead>\n",
       "    <tr style=\"text-align: right;\">\n",
       "      <th></th>\n",
       "      <th>Date</th>\n",
       "    </tr>\n",
       "  </thead>\n",
       "  <tbody>\n",
       "    <tr>\n",
       "      <th>0</th>\n",
       "      <td>Aug-07-2018</td>\n",
       "    </tr>\n",
       "    <tr>\n",
       "      <th>1</th>\n",
       "      <td>Aug-07-2018</td>\n",
       "    </tr>\n",
       "    <tr>\n",
       "      <th>2</th>\n",
       "      <td>Aug-07-2018</td>\n",
       "    </tr>\n",
       "    <tr>\n",
       "      <th>3</th>\n",
       "      <td>Aug-07-2018</td>\n",
       "    </tr>\n",
       "    <tr>\n",
       "      <th>4</th>\n",
       "      <td>Aug-07-2018</td>\n",
       "    </tr>\n",
       "  </tbody>\n",
       "</table>\n",
       "</div>"
      ],
      "text/plain": [
       "          Date\n",
       "0  Aug-07-2018\n",
       "1  Aug-07-2018\n",
       "2  Aug-07-2018\n",
       "3  Aug-07-2018\n",
       "4  Aug-07-2018"
      ]
     },
     "execution_count": 32,
     "metadata": {},
     "output_type": "execute_result"
    }
   ],
   "source": [
    "df = pd.DataFrame(results_list)\n",
    "df = df.rename(columns={0: \"Date\"})\n",
    "df.head()"
   ]
  },
  {
   "cell_type": "code",
   "execution_count": 33,
   "metadata": {},
   "outputs": [
    {
     "data": {
      "text/plain": [
       "Date\n",
       "Aug-01-2018    448\n",
       "Aug-02-2018    471\n",
       "Aug-03-2018    501\n",
       "Aug-04-2018    745\n",
       "Aug-05-2018    511\n",
       "Aug-06-2018    471\n",
       "Aug-07-2018    266\n",
       "Name: Date, dtype: int64"
      ]
     },
     "execution_count": 33,
     "metadata": {},
     "output_type": "execute_result"
    }
   ],
   "source": [
    "df_group = df.groupby([\"Date\"])\n",
    "count_df_group = df_group[\"Date\"].count()\n",
    "count_df_group"
   ]
  },
  {
   "cell_type": "code",
   "execution_count": 50,
   "metadata": {},
   "outputs": [],
   "source": [
    "count_df_group_df = pd.DataFrame(count_df_group)\n",
    "count_df_group_df = count_df_group_df.rename(columns={\"Date\": \"tweet_count\"})"
   ]
  },
  {
   "cell_type": "code",
   "execution_count": 51,
   "metadata": {},
   "outputs": [
    {
     "data": {
      "text/plain": [
       "Index(['Aug-01-2018', 'Aug-02-2018', 'Aug-03-2018', 'Aug-04-2018',\n",
       "       'Aug-05-2018', 'Aug-06-2018', 'Aug-07-2018'],\n",
       "      dtype='object', name='Date')"
      ]
     },
     "execution_count": 51,
     "metadata": {},
     "output_type": "execute_result"
    }
   ],
   "source": [
    "count_df_group_df.index"
   ]
  },
  {
   "cell_type": "code",
   "execution_count": 52,
   "metadata": {},
   "outputs": [
    {
     "data": {
      "text/plain": [
       "Date\n",
       "Aug-01-2018    448\n",
       "Aug-02-2018    471\n",
       "Aug-03-2018    501\n",
       "Aug-04-2018    745\n",
       "Aug-05-2018    511\n",
       "Aug-06-2018    471\n",
       "Aug-07-2018    266\n",
       "Name: tweet_count, dtype: int64"
      ]
     },
     "execution_count": 52,
     "metadata": {},
     "output_type": "execute_result"
    }
   ],
   "source": [
    "count_df_group_df[\"tweet_count\"]"
   ]
  },
  {
   "cell_type": "code",
   "execution_count": 61,
   "metadata": {},
   "outputs": [
    {
     "data": {
      "image/png": "[encoded data removed]",
      "text/plain": [
       "<Figure size 432x288 with 1 Axes>"
      ]
     },
     "metadata": {},
     "output_type": "display_data"
    }
   ],
   "source": [
    "# Plot bar chart for CPM Comparison\n",
    "plt.subplot(2, 1, 1)\n",
    "\n",
    "# Define x ticks, x axis, y axis\n",
    "x_ticks = count_df_group_df.index\n",
    "x_axis = np.arange(len(x_ticks))\n",
    "y_axis = count_df_group_df[\"tweet_count\"]\n",
    "\n",
    "# Add Title, Add labels to X and Y axes\n",
    "plt.title(\"Daily Tweet Counts\")\n",
    "plt.ylabel(\"Number of tweets\")\n",
    "\n",
    "# Plot\n",
    "bar_plot = plt.bar(x_axis, y_axis, color='lightskyblue', alpha=0.7, align=\"center\")\n",
    "\n",
    "\n",
    "# set y axis limit\n",
    "plt.ylim(0, 1500)\n",
    "\n",
    "# place value in each bar\n",
    "for bar in bar_plot:\n",
    "    height = bar.get_height()\n",
    "    plt.text(bar.get_x() + bar.get_width()/2, height+1.5, str(height.round(1)), color='black', ha='center')\n",
    "\n",
    "# Place tick names\n",
    "tick_location = [value for value in x_axis]\n",
    "plt.xticks(tick_location, x_ticks, rotation=90)\n",
    "\n",
    "plt.savefig(\"../Output/tweet_counts.png\", bbox_inches=\"tight\")\n",
    "\n",
    "plt.show()"
   ]
  },
  {
   "cell_type": "code",
   "execution_count": 62,
   "metadata": {},
   "outputs": [
    {
     "data": {
      "text/plain": [
       "1024524756710776831"
      ]
     },
     "execution_count": 62,
     "metadata": {},
     "output_type": "execute_result"
    }
   ],
   "source": [
    "oldest_tweet"
   ]
  },
  {
   "cell_type": "code",
   "execution_count": null,
   "metadata": {},
   "outputs": [],
   "source": []
  }
 ],
 "metadata": {
  "anaconda-cloud": {},
  "kernelspec": {
   "display_name": "Python 3",
   "language": "python",
   "name": "python3"
  },
  "language_info": {
   "codemirror_mode": {
    "name": "ipython",
    "version": 3
   },
   "file_extension": ".py",
   "mimetype": "text/x-python",
   "name": "python",
   "nbconvert_exporter": "python",
   "pygments_lexer": "ipython3",
   "version": "3.6.5"
  }
 },
 "nbformat": 4,
 "nbformat_minor": 1
}
